{
 "cells": [
  {
   "cell_type": "markdown",
   "id": "f630fade-5d91-4f39-9b03-aeaa06d91edb",
   "metadata": {},
   "source": [
    "# Borrower reliability research."
   ]
  },
  {
   "cell_type": "markdown",
   "id": "e75970de-3ee2-4ccd-ac9c-5ddf4bd1a05e",
   "metadata": {},
   "source": [
    "## General information about project."
   ]
  },
  {
   "cell_type": "markdown",
   "id": "35a98504-80d5-4d96-8295-583e5c8df3e6",
   "metadata": {},
   "source": [
    "**Client** - the bank's credit department."
   ]
  },
  {
   "cell_type": "markdown",
   "id": "b2d72210-1f11-439f-8cbf-554503dd0a5e",
   "metadata": {},
   "source": [
    "**Data** - statistics on the clients' creditworthiness. \n",
    "* `children`: Number of children in the family\n",
    "* `days_employed`: Total employment duration in days\n",
    "* `dob_years`: Age of the client in years\n",
    "* `education`: Client's education level\n",
    "* `education_id`: Identifier for the education level\n",
    "* `family_status`: Marital status\n",
    "* `family_status_id`: Identifier for marital status\n",
    "* `gender`: Client's gender\n",
    "* `income_type`: Type of employment\n",
    "* `debt`: Whether the client has overdue loan payments\n",
    "* `total_income`: Monthly income\n",
    "* `purpose`: Purpose of the loan"
   ]
  },
  {
   "cell_type": "markdown",
   "id": "b3c2c007-523a-4521-a852-316b81810003",
   "metadata": {},
   "source": [
    "**Purposes of the study:**\n",
    "\n",
    "1) Analyze whether the demographic factors listed below influence timely loan repayment.\n",
    "    * Number of children\n",
    "    * Marital status\n",
    "    * Income level\n",
    "    * Loan purpose      \n",
    "2) Сreate the 'ideal' and 'undesirable' profiles of clients.\n",
    "3) Identify possible reasons for missing values.\n",
    "\n",
    "The results of the study will be taken into account when developing a credit scoring model—a specialized system that assesses the ability of potential borrowers to repay loans to the bank."
   ]
  },
  {
   "cell_type": "markdown",
   "id": "3337ea90-5770-4ef4-a90d-7febe3392f53",
   "metadata": {},
   "source": [
    "## 1. Exploration of the general information of the DataFrame."
   ]
  },
  {
   "cell_type": "markdown",
   "id": "32e7e0f4-40ca-486c-9f69-502be49e2718",
   "metadata": {},
   "source": [
    "Import the pandas library. Read data from a CSV file into a DataFrame and savе it in the variable `data`. "
   ]
  },
  {
   "cell_type": "code",
   "execution_count": 4,
   "id": "225790b3-fdbb-45d7-a87e-6ce48cc6f27f",
   "metadata": {},
   "outputs": [],
   "source": [
    "import pandas as pd"
   ]
  },
  {
   "cell_type": "code",
   "execution_count": 5,
   "id": "fc6b64b7-0b24-478c-8ec6-bf04dcc8cfcb",
   "metadata": {},
   "outputs": [],
   "source": [
    "data = pd.read_csv('https://code.s3.yandex.net/datasets/data.csv')"
   ]
  },
  {
   "cell_type": "markdown",
   "id": "8d1c5890-a165-436b-b585-5a4fa7879e77",
   "metadata": {},
   "source": [
    "Display the first 20 rows of the DataFrame on the screen."
   ]
  },
  {
   "cell_type": "code",
   "execution_count": 7,
   "id": "00ded413-ce6c-4d73-949d-30f665afea53",
   "metadata": {},
   "outputs": [
    {
     "data": {
      "text/html": [
       "<div>\n",
       "<style scoped>\n",
       "    .dataframe tbody tr th:only-of-type {\n",
       "        vertical-align: middle;\n",
       "    }\n",
       "\n",
       "    .dataframe tbody tr th {\n",
       "        vertical-align: top;\n",
       "    }\n",
       "\n",
       "    .dataframe thead th {\n",
       "        text-align: right;\n",
       "    }\n",
       "</style>\n",
       "<table border=\"1\" class=\"dataframe\">\n",
       "  <thead>\n",
       "    <tr style=\"text-align: right;\">\n",
       "      <th></th>\n",
       "      <th>children</th>\n",
       "      <th>days_employed</th>\n",
       "      <th>dob_years</th>\n",
       "      <th>education</th>\n",
       "      <th>education_id</th>\n",
       "      <th>family_status</th>\n",
       "      <th>family_status_id</th>\n",
       "      <th>gender</th>\n",
       "      <th>income_type</th>\n",
       "      <th>debt</th>\n",
       "      <th>total_income</th>\n",
       "      <th>purpose</th>\n",
       "    </tr>\n",
       "  </thead>\n",
       "  <tbody>\n",
       "    <tr>\n",
       "      <th>0</th>\n",
       "      <td>1</td>\n",
       "      <td>-8437.673028</td>\n",
       "      <td>42</td>\n",
       "      <td>высшее</td>\n",
       "      <td>0</td>\n",
       "      <td>женат / замужем</td>\n",
       "      <td>0</td>\n",
       "      <td>F</td>\n",
       "      <td>сотрудник</td>\n",
       "      <td>0</td>\n",
       "      <td>253875.639453</td>\n",
       "      <td>покупка жилья</td>\n",
       "    </tr>\n",
       "    <tr>\n",
       "      <th>1</th>\n",
       "      <td>1</td>\n",
       "      <td>-4024.803754</td>\n",
       "      <td>36</td>\n",
       "      <td>среднее</td>\n",
       "      <td>1</td>\n",
       "      <td>женат / замужем</td>\n",
       "      <td>0</td>\n",
       "      <td>F</td>\n",
       "      <td>сотрудник</td>\n",
       "      <td>0</td>\n",
       "      <td>112080.014102</td>\n",
       "      <td>приобретение автомобиля</td>\n",
       "    </tr>\n",
       "    <tr>\n",
       "      <th>2</th>\n",
       "      <td>0</td>\n",
       "      <td>-5623.422610</td>\n",
       "      <td>33</td>\n",
       "      <td>Среднее</td>\n",
       "      <td>1</td>\n",
       "      <td>женат / замужем</td>\n",
       "      <td>0</td>\n",
       "      <td>M</td>\n",
       "      <td>сотрудник</td>\n",
       "      <td>0</td>\n",
       "      <td>145885.952297</td>\n",
       "      <td>покупка жилья</td>\n",
       "    </tr>\n",
       "    <tr>\n",
       "      <th>3</th>\n",
       "      <td>3</td>\n",
       "      <td>-4124.747207</td>\n",
       "      <td>32</td>\n",
       "      <td>среднее</td>\n",
       "      <td>1</td>\n",
       "      <td>женат / замужем</td>\n",
       "      <td>0</td>\n",
       "      <td>M</td>\n",
       "      <td>сотрудник</td>\n",
       "      <td>0</td>\n",
       "      <td>267628.550329</td>\n",
       "      <td>дополнительное образование</td>\n",
       "    </tr>\n",
       "    <tr>\n",
       "      <th>4</th>\n",
       "      <td>0</td>\n",
       "      <td>340266.072047</td>\n",
       "      <td>53</td>\n",
       "      <td>среднее</td>\n",
       "      <td>1</td>\n",
       "      <td>гражданский брак</td>\n",
       "      <td>1</td>\n",
       "      <td>F</td>\n",
       "      <td>пенсионер</td>\n",
       "      <td>0</td>\n",
       "      <td>158616.077870</td>\n",
       "      <td>сыграть свадьбу</td>\n",
       "    </tr>\n",
       "    <tr>\n",
       "      <th>5</th>\n",
       "      <td>0</td>\n",
       "      <td>-926.185831</td>\n",
       "      <td>27</td>\n",
       "      <td>высшее</td>\n",
       "      <td>0</td>\n",
       "      <td>гражданский брак</td>\n",
       "      <td>1</td>\n",
       "      <td>M</td>\n",
       "      <td>компаньон</td>\n",
       "      <td>0</td>\n",
       "      <td>255763.565419</td>\n",
       "      <td>покупка жилья</td>\n",
       "    </tr>\n",
       "    <tr>\n",
       "      <th>6</th>\n",
       "      <td>0</td>\n",
       "      <td>-2879.202052</td>\n",
       "      <td>43</td>\n",
       "      <td>высшее</td>\n",
       "      <td>0</td>\n",
       "      <td>женат / замужем</td>\n",
       "      <td>0</td>\n",
       "      <td>F</td>\n",
       "      <td>компаньон</td>\n",
       "      <td>0</td>\n",
       "      <td>240525.971920</td>\n",
       "      <td>операции с жильем</td>\n",
       "    </tr>\n",
       "    <tr>\n",
       "      <th>7</th>\n",
       "      <td>0</td>\n",
       "      <td>-152.779569</td>\n",
       "      <td>50</td>\n",
       "      <td>СРЕДНЕЕ</td>\n",
       "      <td>1</td>\n",
       "      <td>женат / замужем</td>\n",
       "      <td>0</td>\n",
       "      <td>M</td>\n",
       "      <td>сотрудник</td>\n",
       "      <td>0</td>\n",
       "      <td>135823.934197</td>\n",
       "      <td>образование</td>\n",
       "    </tr>\n",
       "    <tr>\n",
       "      <th>8</th>\n",
       "      <td>2</td>\n",
       "      <td>-6929.865299</td>\n",
       "      <td>35</td>\n",
       "      <td>ВЫСШЕЕ</td>\n",
       "      <td>0</td>\n",
       "      <td>гражданский брак</td>\n",
       "      <td>1</td>\n",
       "      <td>F</td>\n",
       "      <td>сотрудник</td>\n",
       "      <td>0</td>\n",
       "      <td>95856.832424</td>\n",
       "      <td>на проведение свадьбы</td>\n",
       "    </tr>\n",
       "    <tr>\n",
       "      <th>9</th>\n",
       "      <td>0</td>\n",
       "      <td>-2188.756445</td>\n",
       "      <td>41</td>\n",
       "      <td>среднее</td>\n",
       "      <td>1</td>\n",
       "      <td>женат / замужем</td>\n",
       "      <td>0</td>\n",
       "      <td>M</td>\n",
       "      <td>сотрудник</td>\n",
       "      <td>0</td>\n",
       "      <td>144425.938277</td>\n",
       "      <td>покупка жилья для семьи</td>\n",
       "    </tr>\n",
       "    <tr>\n",
       "      <th>10</th>\n",
       "      <td>2</td>\n",
       "      <td>-4171.483647</td>\n",
       "      <td>36</td>\n",
       "      <td>высшее</td>\n",
       "      <td>0</td>\n",
       "      <td>женат / замужем</td>\n",
       "      <td>0</td>\n",
       "      <td>M</td>\n",
       "      <td>компаньон</td>\n",
       "      <td>0</td>\n",
       "      <td>113943.491460</td>\n",
       "      <td>покупка недвижимости</td>\n",
       "    </tr>\n",
       "    <tr>\n",
       "      <th>11</th>\n",
       "      <td>0</td>\n",
       "      <td>-792.701887</td>\n",
       "      <td>40</td>\n",
       "      <td>среднее</td>\n",
       "      <td>1</td>\n",
       "      <td>женат / замужем</td>\n",
       "      <td>0</td>\n",
       "      <td>F</td>\n",
       "      <td>сотрудник</td>\n",
       "      <td>0</td>\n",
       "      <td>77069.234271</td>\n",
       "      <td>покупка коммерческой недвижимости</td>\n",
       "    </tr>\n",
       "    <tr>\n",
       "      <th>12</th>\n",
       "      <td>0</td>\n",
       "      <td>NaN</td>\n",
       "      <td>65</td>\n",
       "      <td>среднее</td>\n",
       "      <td>1</td>\n",
       "      <td>гражданский брак</td>\n",
       "      <td>1</td>\n",
       "      <td>M</td>\n",
       "      <td>пенсионер</td>\n",
       "      <td>0</td>\n",
       "      <td>NaN</td>\n",
       "      <td>сыграть свадьбу</td>\n",
       "    </tr>\n",
       "    <tr>\n",
       "      <th>13</th>\n",
       "      <td>0</td>\n",
       "      <td>-1846.641941</td>\n",
       "      <td>54</td>\n",
       "      <td>неоконченное высшее</td>\n",
       "      <td>2</td>\n",
       "      <td>женат / замужем</td>\n",
       "      <td>0</td>\n",
       "      <td>F</td>\n",
       "      <td>сотрудник</td>\n",
       "      <td>0</td>\n",
       "      <td>130458.228857</td>\n",
       "      <td>приобретение автомобиля</td>\n",
       "    </tr>\n",
       "    <tr>\n",
       "      <th>14</th>\n",
       "      <td>0</td>\n",
       "      <td>-1844.956182</td>\n",
       "      <td>56</td>\n",
       "      <td>высшее</td>\n",
       "      <td>0</td>\n",
       "      <td>гражданский брак</td>\n",
       "      <td>1</td>\n",
       "      <td>F</td>\n",
       "      <td>компаньон</td>\n",
       "      <td>1</td>\n",
       "      <td>165127.911772</td>\n",
       "      <td>покупка жилой недвижимости</td>\n",
       "    </tr>\n",
       "    <tr>\n",
       "      <th>15</th>\n",
       "      <td>1</td>\n",
       "      <td>-972.364419</td>\n",
       "      <td>26</td>\n",
       "      <td>среднее</td>\n",
       "      <td>1</td>\n",
       "      <td>женат / замужем</td>\n",
       "      <td>0</td>\n",
       "      <td>F</td>\n",
       "      <td>сотрудник</td>\n",
       "      <td>0</td>\n",
       "      <td>116820.904450</td>\n",
       "      <td>строительство собственной недвижимости</td>\n",
       "    </tr>\n",
       "    <tr>\n",
       "      <th>16</th>\n",
       "      <td>0</td>\n",
       "      <td>-1719.934226</td>\n",
       "      <td>35</td>\n",
       "      <td>среднее</td>\n",
       "      <td>1</td>\n",
       "      <td>женат / замужем</td>\n",
       "      <td>0</td>\n",
       "      <td>F</td>\n",
       "      <td>сотрудник</td>\n",
       "      <td>0</td>\n",
       "      <td>289202.704229</td>\n",
       "      <td>недвижимость</td>\n",
       "    </tr>\n",
       "    <tr>\n",
       "      <th>17</th>\n",
       "      <td>0</td>\n",
       "      <td>-2369.999720</td>\n",
       "      <td>33</td>\n",
       "      <td>высшее</td>\n",
       "      <td>0</td>\n",
       "      <td>гражданский брак</td>\n",
       "      <td>1</td>\n",
       "      <td>M</td>\n",
       "      <td>сотрудник</td>\n",
       "      <td>0</td>\n",
       "      <td>90410.586745</td>\n",
       "      <td>строительство недвижимости</td>\n",
       "    </tr>\n",
       "    <tr>\n",
       "      <th>18</th>\n",
       "      <td>0</td>\n",
       "      <td>400281.136913</td>\n",
       "      <td>53</td>\n",
       "      <td>среднее</td>\n",
       "      <td>1</td>\n",
       "      <td>вдовец / вдова</td>\n",
       "      <td>2</td>\n",
       "      <td>F</td>\n",
       "      <td>пенсионер</td>\n",
       "      <td>0</td>\n",
       "      <td>56823.777243</td>\n",
       "      <td>на покупку подержанного автомобиля</td>\n",
       "    </tr>\n",
       "    <tr>\n",
       "      <th>19</th>\n",
       "      <td>0</td>\n",
       "      <td>-10038.818549</td>\n",
       "      <td>48</td>\n",
       "      <td>СРЕДНЕЕ</td>\n",
       "      <td>1</td>\n",
       "      <td>в разводе</td>\n",
       "      <td>3</td>\n",
       "      <td>F</td>\n",
       "      <td>сотрудник</td>\n",
       "      <td>0</td>\n",
       "      <td>242831.107982</td>\n",
       "      <td>на покупку своего автомобиля</td>\n",
       "    </tr>\n",
       "  </tbody>\n",
       "</table>\n",
       "</div>"
      ],
      "text/plain": [
       "    children  days_employed  dob_years            education  education_id  \\\n",
       "0          1   -8437.673028         42               высшее             0   \n",
       "1          1   -4024.803754         36              среднее             1   \n",
       "2          0   -5623.422610         33              Среднее             1   \n",
       "3          3   -4124.747207         32              среднее             1   \n",
       "4          0  340266.072047         53              среднее             1   \n",
       "5          0    -926.185831         27               высшее             0   \n",
       "6          0   -2879.202052         43               высшее             0   \n",
       "7          0    -152.779569         50              СРЕДНЕЕ             1   \n",
       "8          2   -6929.865299         35               ВЫСШЕЕ             0   \n",
       "9          0   -2188.756445         41              среднее             1   \n",
       "10         2   -4171.483647         36               высшее             0   \n",
       "11         0    -792.701887         40              среднее             1   \n",
       "12         0            NaN         65              среднее             1   \n",
       "13         0   -1846.641941         54  неоконченное высшее             2   \n",
       "14         0   -1844.956182         56               высшее             0   \n",
       "15         1    -972.364419         26              среднее             1   \n",
       "16         0   -1719.934226         35              среднее             1   \n",
       "17         0   -2369.999720         33               высшее             0   \n",
       "18         0  400281.136913         53              среднее             1   \n",
       "19         0  -10038.818549         48              СРЕДНЕЕ             1   \n",
       "\n",
       "       family_status  family_status_id gender income_type  debt  \\\n",
       "0    женат / замужем                 0      F   сотрудник     0   \n",
       "1    женат / замужем                 0      F   сотрудник     0   \n",
       "2    женат / замужем                 0      M   сотрудник     0   \n",
       "3    женат / замужем                 0      M   сотрудник     0   \n",
       "4   гражданский брак                 1      F   пенсионер     0   \n",
       "5   гражданский брак                 1      M   компаньон     0   \n",
       "6    женат / замужем                 0      F   компаньон     0   \n",
       "7    женат / замужем                 0      M   сотрудник     0   \n",
       "8   гражданский брак                 1      F   сотрудник     0   \n",
       "9    женат / замужем                 0      M   сотрудник     0   \n",
       "10   женат / замужем                 0      M   компаньон     0   \n",
       "11   женат / замужем                 0      F   сотрудник     0   \n",
       "12  гражданский брак                 1      M   пенсионер     0   \n",
       "13   женат / замужем                 0      F   сотрудник     0   \n",
       "14  гражданский брак                 1      F   компаньон     1   \n",
       "15   женат / замужем                 0      F   сотрудник     0   \n",
       "16   женат / замужем                 0      F   сотрудник     0   \n",
       "17  гражданский брак                 1      M   сотрудник     0   \n",
       "18    вдовец / вдова                 2      F   пенсионер     0   \n",
       "19         в разводе                 3      F   сотрудник     0   \n",
       "\n",
       "     total_income                                 purpose  \n",
       "0   253875.639453                           покупка жилья  \n",
       "1   112080.014102                 приобретение автомобиля  \n",
       "2   145885.952297                           покупка жилья  \n",
       "3   267628.550329              дополнительное образование  \n",
       "4   158616.077870                         сыграть свадьбу  \n",
       "5   255763.565419                           покупка жилья  \n",
       "6   240525.971920                       операции с жильем  \n",
       "7   135823.934197                             образование  \n",
       "8    95856.832424                   на проведение свадьбы  \n",
       "9   144425.938277                 покупка жилья для семьи  \n",
       "10  113943.491460                    покупка недвижимости  \n",
       "11   77069.234271       покупка коммерческой недвижимости  \n",
       "12            NaN                         сыграть свадьбу  \n",
       "13  130458.228857                 приобретение автомобиля  \n",
       "14  165127.911772              покупка жилой недвижимости  \n",
       "15  116820.904450  строительство собственной недвижимости  \n",
       "16  289202.704229                            недвижимость  \n",
       "17   90410.586745              строительство недвижимости  \n",
       "18   56823.777243      на покупку подержанного автомобиля  \n",
       "19  242831.107982            на покупку своего автомобиля  "
      ]
     },
     "execution_count": 7,
     "metadata": {},
     "output_type": "execute_result"
    }
   ],
   "source": [
    "data.head(20)"
   ]
  },
  {
   "cell_type": "markdown",
   "id": "cd19439c-b791-4c1a-9ad8-0536b6c93f1e",
   "metadata": {},
   "source": [
    "Display the basic information about the DataFrame using the `info()` method."
   ]
  },
  {
   "cell_type": "code",
   "execution_count": 9,
   "id": "e834747e-292b-40de-b025-3e9f1639a6e9",
   "metadata": {},
   "outputs": [
    {
     "name": "stdout",
     "output_type": "stream",
     "text": [
      "<class 'pandas.core.frame.DataFrame'>\n",
      "RangeIndex: 21525 entries, 0 to 21524\n",
      "Data columns (total 12 columns):\n",
      " #   Column            Non-Null Count  Dtype  \n",
      "---  ------            --------------  -----  \n",
      " 0   children          21525 non-null  int64  \n",
      " 1   days_employed     19351 non-null  float64\n",
      " 2   dob_years         21525 non-null  int64  \n",
      " 3   education         21525 non-null  object \n",
      " 4   education_id      21525 non-null  int64  \n",
      " 5   family_status     21525 non-null  object \n",
      " 6   family_status_id  21525 non-null  int64  \n",
      " 7   gender            21525 non-null  object \n",
      " 8   income_type       21525 non-null  object \n",
      " 9   debt              21525 non-null  int64  \n",
      " 10  total_income      19351 non-null  float64\n",
      " 11  purpose           21525 non-null  object \n",
      "dtypes: float64(2), int64(5), object(5)\n",
      "memory usage: 2.0+ MB\n"
     ]
    }
   ],
   "source": [
    "data.info()"
   ]
  },
  {
   "cell_type": "markdown",
   "id": "4622a902-f857-4420-a507-af57c6714a58",
   "metadata": {},
   "source": [
    "## 2. Data prepocessing."
   ]
  },
  {
   "cell_type": "markdown",
   "id": "908f8f0e-d8ee-4d44-a209-7bd276b6cfd0",
   "metadata": {},
   "source": [
    "### 2.1. Handling missing values."
   ]
  },
  {
   "cell_type": "markdown",
   "id": "7fa83b17-4de9-40a1-b627-4d61e3fd585d",
   "metadata": {},
   "source": [
    "Display the count of missing values for each column."
   ]
  },
  {
   "cell_type": "code",
   "execution_count": 13,
   "id": "1653a455-928a-4400-a488-2a2c32c5ee5d",
   "metadata": {},
   "outputs": [
    {
     "data": {
      "text/plain": [
       "children               0\n",
       "days_employed       2174\n",
       "dob_years              0\n",
       "education              0\n",
       "education_id           0\n",
       "family_status          0\n",
       "family_status_id       0\n",
       "gender                 0\n",
       "income_type            0\n",
       "debt                   0\n",
       "total_income        2174\n",
       "purpose                0\n",
       "dtype: int64"
      ]
     },
     "execution_count": 13,
     "metadata": {},
     "output_type": "execute_result"
    }
   ],
   "source": [
    "data.isna().sum()"
   ]
  },
  {
   "cell_type": "markdown",
   "id": "649ef385-57fb-4084-8a29-f81c166a4dd4",
   "metadata": {},
   "source": [
    "There are missing values in two columns. One of them is `days_employed`, which will be handled in the next step. The other column with missing values is `total_income`, which contains income data. Since the type of employment significantly influences income, the missing values in this column should be filled with the median income for each type from the `income_type` column."
   ]
  },
  {
   "cell_type": "code",
   "execution_count": 15,
   "id": "89889a51-d44c-4bab-89a5-ce6f560b6508",
   "metadata": {},
   "outputs": [],
   "source": [
    "for type in data['income_type'].unique():\n",
    "    data.loc[(data['income_type'] == type) & (data['total_income'].isna()), 'total_income'] = \\\n",
    "    data.loc[(data['income_type'] == type), 'total_income'].median()"
   ]
  },
  {
   "cell_type": "markdown",
   "id": "be034509-2954-4fec-9c9e-76493fbf75ad",
   "metadata": {},
   "source": [
    "### 2.2. Handling outliers."
   ]
  },
  {
   "cell_type": "markdown",
   "id": "14e70efd-a3a2-43ed-9c1e-ea2f6464467b",
   "metadata": {},
   "source": [
    "The data may contain artifacts (outliers) — values that do not reflect reality and may have resulted from some error. One such artifact is the negative number of days employed in the `days_employed` column. Handle the values in this column by replacing all negative values with their absolute values using the `abs()` method."
   ]
  },
  {
   "cell_type": "code",
   "execution_count": 18,
   "id": "eff31d42-5e40-4864-8e77-518831a75c6c",
   "metadata": {},
   "outputs": [],
   "source": [
    "data['days_employed'] = data['days_employed'].abs()"
   ]
  },
  {
   "cell_type": "markdown",
   "id": "8b2b2044-6908-4c34-b2b5-7bef1d5d2943",
   "metadata": {},
   "source": [
    "For each employment type, display the median value of days_employed in days."
   ]
  },
  {
   "cell_type": "code",
   "execution_count": 20,
   "id": "6ae87186-78ac-4b85-9b40-5eb983fef9c5",
   "metadata": {},
   "outputs": [
    {
     "data": {
      "text/plain": [
       "income_type\n",
       "безработный        366413.652744\n",
       "в декрете            3296.759962\n",
       "госслужащий          2689.368353\n",
       "компаньон            1547.382223\n",
       "пенсионер          365213.306266\n",
       "предприниматель       520.848083\n",
       "сотрудник            1574.202821\n",
       "студент               578.751554\n",
       "Name: days_employed, dtype: float64"
      ]
     },
     "execution_count": 20,
     "metadata": {},
     "output_type": "execute_result"
    }
   ],
   "source": [
    "data.groupby('income_type')['days_employed'].agg('median')"
   ]
  },
  {
   "cell_type": "markdown",
   "id": "fc881a05-bcad-4e81-b7dc-523203fcb5c6",
   "metadata": {},
   "source": [
    "For two types (unemployed - 'безработные' and retirees - 'пенсионеры'), abnormally large values are obtained. Since this column will not be needed for the analysis, I will leave it as is due to the difficulty of correcting the values."
   ]
  },
  {
   "cell_type": "markdown",
   "id": "064d7785-314a-4558-afce-6c77905ddda5",
   "metadata": {},
   "source": [
    "Display the list of unique values in the `children` column."
   ]
  },
  {
   "cell_type": "code",
   "execution_count": 23,
   "id": "d7aa1a65-7ef0-47f6-8a37-d3096b904b9c",
   "metadata": {},
   "outputs": [
    {
     "data": {
      "text/plain": [
       "array([ 1,  0,  3,  2, -1,  4, 20,  5])"
      ]
     },
     "execution_count": 23,
     "metadata": {},
     "output_type": "execute_result"
    }
   ],
   "source": [
    "data['children'].unique()"
   ]
  },
  {
   "cell_type": "markdown",
   "id": "ec8fe2ab-1eb4-45b6-87ef-7d49c6cf81ae",
   "metadata": {},
   "source": [
    "Remove the rows containing the anomalous values from the `children` column in the DataFrame `data`."
   ]
  },
  {
   "cell_type": "code",
   "execution_count": 25,
   "id": "a30a4ce4-f23a-4847-bd17-13b30f6d4cef",
   "metadata": {},
   "outputs": [],
   "source": [
    "data = data[(data['children'] != -1) & (data['children'] != 20)]"
   ]
  },
  {
   "cell_type": "markdown",
   "id": "1ffabb90-bcc6-402a-819a-e59991850613",
   "metadata": {},
   "source": [
    "Ensure that the artifacts have been removed."
   ]
  },
  {
   "cell_type": "code",
   "execution_count": 27,
   "id": "0fd2bd67-2784-449a-a3e2-c025b75f1803",
   "metadata": {},
   "outputs": [
    {
     "data": {
      "text/plain": [
       "array([1, 0, 3, 2, 4, 5])"
      ]
     },
     "execution_count": 27,
     "metadata": {},
     "output_type": "execute_result"
    }
   ],
   "source": [
    "data['children'].unique()"
   ]
  },
  {
   "cell_type": "markdown",
   "id": "cdedb9d5-2e2d-4f28-bdd2-a9aa1236dccc",
   "metadata": {},
   "source": [
    "### 2.3. Handling missing values (Continued)."
   ]
  },
  {
   "cell_type": "markdown",
   "id": "6fc121ce-0af5-4600-a094-b02850adbb2d",
   "metadata": {},
   "source": [
    "Fill the missing values in the `days_employed` column with the median values for each employment type from the `income_type` column."
   ]
  },
  {
   "cell_type": "code",
   "execution_count": 30,
   "id": "02c29bbf-d255-44aa-a1ff-5498cc8c0600",
   "metadata": {},
   "outputs": [],
   "source": [
    "for type in data['income_type'].unique():\n",
    "    data.loc[(data['income_type'] == type) & (data['days_employed'].isna()), 'days_employed'] = \\\n",
    "    data.loc[(data['income_type'] == type), 'days_employed'].median()"
   ]
  },
  {
   "cell_type": "markdown",
   "id": "d66d7462-8926-4091-b02f-5de1029f3050",
   "metadata": {},
   "source": [
    "Ensure that all missing values have been filled."
   ]
  },
  {
   "cell_type": "code",
   "execution_count": 32,
   "id": "c98a4e9d-706c-4ad3-bd28-b4374433940e",
   "metadata": {},
   "outputs": [
    {
     "data": {
      "text/plain": [
       "children            0\n",
       "days_employed       0\n",
       "dob_years           0\n",
       "education           0\n",
       "education_id        0\n",
       "family_status       0\n",
       "family_status_id    0\n",
       "gender              0\n",
       "income_type         0\n",
       "debt                0\n",
       "total_income        0\n",
       "purpose             0\n",
       "dtype: int64"
      ]
     },
     "execution_count": 32,
     "metadata": {},
     "output_type": "execute_result"
    }
   ],
   "source": [
    "data.isna().sum()"
   ]
  },
  {
   "cell_type": "markdown",
   "id": "0943f51f-a488-4a37-915d-27ead86b0224",
   "metadata": {},
   "source": [
    "### 2.4. Changing data types."
   ]
  },
  {
   "cell_type": "markdown",
   "id": "ab408dfe-c800-4829-aaf0-2f0d8fec6011",
   "metadata": {},
   "source": [
    "Change the data type of the `total_income` column from float to integer using the `astype()` method."
   ]
  },
  {
   "cell_type": "code",
   "execution_count": 35,
   "id": "0749b571-3e6c-47dc-8966-4430aeb0864a",
   "metadata": {},
   "outputs": [],
   "source": [
    "data['total_income'] = data['total_income'].astype(int)"
   ]
  },
  {
   "cell_type": "markdown",
   "id": "428f1b9c-7aae-47d8-9c24-f7f77ad7f238",
   "metadata": {},
   "source": [
    "### 2.5. Handling duplicates."
   ]
  },
  {
   "cell_type": "markdown",
   "id": "4b5bd083-c8b7-49b2-b355-9099b87138a8",
   "metadata": {},
   "source": [
    "Handle implicit duplicates in the `education` column. There are identical values recorded in different cases (uppercase and lowercase). Convert all values to lowercase. Check the other columns for similar issues."
   ]
  },
  {
   "cell_type": "code",
   "execution_count": 38,
   "id": "2a877aac-d9cc-4494-b963-d2cbdea68696",
   "metadata": {},
   "outputs": [],
   "source": [
    "data['education'] = data['education'].str.lower()"
   ]
  },
  {
   "cell_type": "markdown",
   "id": "0d6991e6-db23-42c7-936d-75c2c6927541",
   "metadata": {},
   "source": [
    "Display the number of duplicate rows in the data. If any duplicate rows are present, remove them."
   ]
  },
  {
   "cell_type": "code",
   "execution_count": 40,
   "id": "11357422-2ef6-4485-8bce-c8ac4e4f3de4",
   "metadata": {},
   "outputs": [
    {
     "data": {
      "text/plain": [
       "71"
      ]
     },
     "execution_count": 40,
     "metadata": {},
     "output_type": "execute_result"
    }
   ],
   "source": [
    "data.duplicated().sum()"
   ]
  },
  {
   "cell_type": "code",
   "execution_count": 41,
   "id": "0c4e6d07-8c92-4648-9b09-12ed59fe79bc",
   "metadata": {},
   "outputs": [],
   "source": [
    "data = data.drop_duplicates()"
   ]
  },
  {
   "cell_type": "markdown",
   "id": "24318ee2-828f-4d5a-b9a0-1bde7d01c296",
   "metadata": {},
   "source": [
    "### 2.6. Data categorization."
   ]
  },
  {
   "cell_type": "markdown",
   "id": "25dbee15-bf40-402f-9d4a-a79b2a0e562a",
   "metadata": {},
   "source": [
    "Based on the ranges specified below, create a new column `total_income_category` in the DataFrame `data` with the following categories:\n",
    "* 0–30000 — 'E'\n",
    "* 30001–50000 — 'D'\n",
    "* 50001–200000 — 'C'\n",
    "* 200001–1000000 — 'B'\n",
    "* 1000001 and above — 'A'"
   ]
  },
  {
   "cell_type": "code",
   "execution_count": 44,
   "id": "f61f0c1d-d89e-415c-bd31-eb5a2b854452",
   "metadata": {},
   "outputs": [],
   "source": [
    "def categorize_income(income):\n",
    "    try:\n",
    "        if 0 <= income <= 30000:\n",
    "            return 'E'\n",
    "        elif 30001 <= income <= 50000:\n",
    "            return 'D'\n",
    "        elif 50001 <= income <= 200000:\n",
    "            return 'C'\n",
    "        elif 200001 <= income <= 1000000:\n",
    "            return 'B'\n",
    "        elif income >= 1000001:\n",
    "            return 'A'\n",
    "    except:\n",
    "        pass"
   ]
  },
  {
   "cell_type": "code",
   "execution_count": 45,
   "id": "ef28854e-46f1-40b6-87d8-447517efc127",
   "metadata": {},
   "outputs": [],
   "source": [
    "data['total_income_category'] = data['total_income'].apply(categorize_income)"
   ]
  },
  {
   "cell_type": "markdown",
   "id": "7528a136-1abd-47c0-8e48-fa65151e1734",
   "metadata": {},
   "source": [
    "Display the list of unique loan purposes from the `purpose` column."
   ]
  },
  {
   "cell_type": "code",
   "execution_count": 47,
   "id": "109c7432-0e15-42f8-97e8-4366cc1e2788",
   "metadata": {},
   "outputs": [
    {
     "data": {
      "text/plain": [
       "array(['покупка жилья', 'приобретение автомобиля',\n",
       "       'дополнительное образование', 'сыграть свадьбу',\n",
       "       'операции с жильем', 'образование', 'на проведение свадьбы',\n",
       "       'покупка жилья для семьи', 'покупка недвижимости',\n",
       "       'покупка коммерческой недвижимости', 'покупка жилой недвижимости',\n",
       "       'строительство собственной недвижимости', 'недвижимость',\n",
       "       'строительство недвижимости', 'на покупку подержанного автомобиля',\n",
       "       'на покупку своего автомобиля',\n",
       "       'операции с коммерческой недвижимостью',\n",
       "       'строительство жилой недвижимости', 'жилье',\n",
       "       'операции со своей недвижимостью', 'автомобили',\n",
       "       'заняться образованием', 'сделка с подержанным автомобилем',\n",
       "       'получение образования', 'автомобиль', 'свадьба',\n",
       "       'получение дополнительного образования', 'покупка своего жилья',\n",
       "       'операции с недвижимостью', 'получение высшего образования',\n",
       "       'свой автомобиль', 'сделка с автомобилем',\n",
       "       'профильное образование', 'высшее образование',\n",
       "       'покупка жилья для сдачи', 'на покупку автомобиля', 'ремонт жилью',\n",
       "       'заняться высшим образованием'], dtype=object)"
      ]
     },
     "execution_count": 47,
     "metadata": {},
     "output_type": "execute_result"
    }
   ],
   "source": [
    "data['purpose'].unique()"
   ]
  },
  {
   "cell_type": "markdown",
   "id": "3125d64e-c5a4-482d-8cfd-c0c03e1bf06f",
   "metadata": {},
   "source": [
    "Create a function named `categorize_purpose()` that categorizes the data from the `purpose` column into a new column called `purpose_category`, which will include the following categories:\n",
    "\n",
    "* 'car transactions'\n",
    "* 'real estate transactions'\n",
    "* 'wedding'\n",
    "* 'education'"
   ]
  },
  {
   "cell_type": "code",
   "execution_count": 49,
   "id": "654195c1-b8ca-4745-852e-4a2fb903ee80",
   "metadata": {},
   "outputs": [],
   "source": [
    "def categorize_purpose(row):\n",
    "    try:\n",
    "        if 'автом' in row:\n",
    "            return 'car transactions'\n",
    "        elif 'жил' in row or 'недвиж' in row:\n",
    "            return 'real estate transactions'\n",
    "        elif 'свад' in row:\n",
    "            return 'wedding'\n",
    "        elif 'образов' in row:\n",
    "            return 'education'\n",
    "    except:\n",
    "        return 'no category'"
   ]
  },
  {
   "cell_type": "code",
   "execution_count": 50,
   "id": "6735867b-85db-41ad-988d-4ca4873f5e29",
   "metadata": {},
   "outputs": [],
   "source": [
    "data['purpose_category'] = data['purpose'].apply(categorize_purpose)"
   ]
  },
  {
   "cell_type": "markdown",
   "id": "2009a1ac-bc7f-468c-9961-dd21e7325cc6",
   "metadata": {},
   "source": [
    "Check the created categories in the `purpose_category` column."
   ]
  },
  {
   "cell_type": "code",
   "execution_count": 52,
   "id": "a4e90242-3679-4977-98d2-67dc70051786",
   "metadata": {},
   "outputs": [
    {
     "data": {
      "text/plain": [
       "array(['real estate transactions', 'car transactions', 'education',\n",
       "       'wedding'], dtype=object)"
      ]
     },
     "execution_count": 52,
     "metadata": {},
     "output_type": "execute_result"
    }
   ],
   "source": [
    "data['purpose_category'].unique()"
   ]
  },
  {
   "cell_type": "markdown",
   "id": "e9467eb2-5554-422e-9153-cbc9b47ee4c8",
   "metadata": {},
   "source": [
    "## 3. Exploring the data and answering the questions."
   ]
  },
  {
   "cell_type": "markdown",
   "id": "67abbf3d-7bb2-49f4-b4b7-5b268bbc9ec1",
   "metadata": {},
   "source": [
    "### 3.1. Is there a relationship between the number of children and timely loan repayment?"
   ]
  },
  {
   "cell_type": "markdown",
   "id": "8f5a3bef-fce0-4cf5-aa18-967270d6dfe3",
   "metadata": {},
   "source": [
    "Create a pivot table comparing categories of individuals with and without debt, grouped by the number of children."
   ]
  },
  {
   "cell_type": "code",
   "execution_count": 56,
   "id": "6224225d-e8e0-41f8-837d-6d424257c574",
   "metadata": {},
   "outputs": [
    {
     "data": {
      "text/html": [
       "<div>\n",
       "<style scoped>\n",
       "    .dataframe tbody tr th:only-of-type {\n",
       "        vertical-align: middle;\n",
       "    }\n",
       "\n",
       "    .dataframe tbody tr th {\n",
       "        vertical-align: top;\n",
       "    }\n",
       "\n",
       "    .dataframe thead th {\n",
       "        text-align: right;\n",
       "    }\n",
       "</style>\n",
       "<table border=\"1\" class=\"dataframe\">\n",
       "  <thead>\n",
       "    <tr style=\"text-align: right;\">\n",
       "      <th>debt</th>\n",
       "      <th>0</th>\n",
       "      <th>1</th>\n",
       "    </tr>\n",
       "    <tr>\n",
       "      <th>children</th>\n",
       "      <th></th>\n",
       "      <th></th>\n",
       "    </tr>\n",
       "  </thead>\n",
       "  <tbody>\n",
       "    <tr>\n",
       "      <th>0</th>\n",
       "      <td>13028</td>\n",
       "      <td>1063</td>\n",
       "    </tr>\n",
       "    <tr>\n",
       "      <th>1</th>\n",
       "      <td>4364</td>\n",
       "      <td>444</td>\n",
       "    </tr>\n",
       "    <tr>\n",
       "      <th>2</th>\n",
       "      <td>1858</td>\n",
       "      <td>194</td>\n",
       "    </tr>\n",
       "    <tr>\n",
       "      <th>3</th>\n",
       "      <td>303</td>\n",
       "      <td>27</td>\n",
       "    </tr>\n",
       "    <tr>\n",
       "      <th>4</th>\n",
       "      <td>37</td>\n",
       "      <td>4</td>\n",
       "    </tr>\n",
       "    <tr>\n",
       "      <th>5</th>\n",
       "      <td>9</td>\n",
       "      <td>0</td>\n",
       "    </tr>\n",
       "  </tbody>\n",
       "</table>\n",
       "</div>"
      ],
      "text/plain": [
       "debt          0     1\n",
       "children             \n",
       "0         13028  1063\n",
       "1          4364   444\n",
       "2          1858   194\n",
       "3           303    27\n",
       "4            37     4\n",
       "5             9     0"
      ]
     },
     "execution_count": 56,
     "metadata": {},
     "output_type": "execute_result"
    }
   ],
   "source": [
    "pivot_test=data.pivot_table(index='children',\n",
    "                 columns='debt',\n",
    "                 values='education',\n",
    "                 aggfunc = 'count',\n",
    "                 fill_value = 0\n",
    "                )\n",
    "pivot_test"
   ]
  },
  {
   "cell_type": "markdown",
   "id": "b8b41336-31e2-4eef-9d50-4c567a3ed08d",
   "metadata": {},
   "source": [
    "A useful column will be `contribution_of_group`, which represents the contribution of each group to the overall population. This metric can help determine whether to include specific groups in the analysis or exclude them due to a low contribution value. The threshold value will be 3%."
   ]
  },
  {
   "cell_type": "code",
   "execution_count": 58,
   "id": "1ecad481-8645-4009-a3a6-0d6312fc90e5",
   "metadata": {},
   "outputs": [],
   "source": [
    "pivot_test['contribution_of_group'] = round((pivot_test[0]+pivot_test[1])/(pivot_test[0].sum()+pivot_test[1].sum())*100,1)"
   ]
  },
  {
   "cell_type": "code",
   "execution_count": 59,
   "id": "f7f26341-fa5f-48c3-ba67-a3fce12e15fe",
   "metadata": {},
   "outputs": [
    {
     "data": {
      "text/html": [
       "<div>\n",
       "<style scoped>\n",
       "    .dataframe tbody tr th:only-of-type {\n",
       "        vertical-align: middle;\n",
       "    }\n",
       "\n",
       "    .dataframe tbody tr th {\n",
       "        vertical-align: top;\n",
       "    }\n",
       "\n",
       "    .dataframe thead th {\n",
       "        text-align: right;\n",
       "    }\n",
       "</style>\n",
       "<table border=\"1\" class=\"dataframe\">\n",
       "  <thead>\n",
       "    <tr style=\"text-align: right;\">\n",
       "      <th>debt</th>\n",
       "      <th>0</th>\n",
       "      <th>1</th>\n",
       "      <th>contribution_of_group</th>\n",
       "    </tr>\n",
       "    <tr>\n",
       "      <th>children</th>\n",
       "      <th></th>\n",
       "      <th></th>\n",
       "      <th></th>\n",
       "    </tr>\n",
       "  </thead>\n",
       "  <tbody>\n",
       "    <tr>\n",
       "      <th>0</th>\n",
       "      <td>13028</td>\n",
       "      <td>1063</td>\n",
       "      <td>66.1</td>\n",
       "    </tr>\n",
       "    <tr>\n",
       "      <th>1</th>\n",
       "      <td>4364</td>\n",
       "      <td>444</td>\n",
       "      <td>22.5</td>\n",
       "    </tr>\n",
       "    <tr>\n",
       "      <th>2</th>\n",
       "      <td>1858</td>\n",
       "      <td>194</td>\n",
       "      <td>9.6</td>\n",
       "    </tr>\n",
       "    <tr>\n",
       "      <th>3</th>\n",
       "      <td>303</td>\n",
       "      <td>27</td>\n",
       "      <td>1.5</td>\n",
       "    </tr>\n",
       "    <tr>\n",
       "      <th>4</th>\n",
       "      <td>37</td>\n",
       "      <td>4</td>\n",
       "      <td>0.2</td>\n",
       "    </tr>\n",
       "    <tr>\n",
       "      <th>5</th>\n",
       "      <td>9</td>\n",
       "      <td>0</td>\n",
       "      <td>0.0</td>\n",
       "    </tr>\n",
       "  </tbody>\n",
       "</table>\n",
       "</div>"
      ],
      "text/plain": [
       "debt          0     1  contribution_of_group\n",
       "children                                    \n",
       "0         13028  1063                   66.1\n",
       "1          4364   444                   22.5\n",
       "2          1858   194                    9.6\n",
       "3           303    27                    1.5\n",
       "4            37     4                    0.2\n",
       "5             9     0                    0.0"
      ]
     },
     "execution_count": 59,
     "metadata": {},
     "output_type": "execute_result"
    }
   ],
   "source": [
    "pivot_test"
   ]
  },
  {
   "cell_type": "markdown",
   "id": "d3257838-4950-4ef9-8e51-0d4efd70378e",
   "metadata": {},
   "source": [
    "Add a column called `share_with_debt`, which will represent the proportion of debtors in each group."
   ]
  },
  {
   "cell_type": "code",
   "execution_count": 61,
   "id": "84d63e3f-fb11-4c57-b806-8077e4143376",
   "metadata": {},
   "outputs": [],
   "source": [
    "pivot_test['share_with_debt']= round(pivot_test[1]/(pivot_test[0]+pivot_test[1])*100,1)"
   ]
  },
  {
   "cell_type": "code",
   "execution_count": 62,
   "id": "8599c17e-73ec-4978-bf2e-d40deab2641e",
   "metadata": {},
   "outputs": [
    {
     "data": {
      "text/html": [
       "<div>\n",
       "<style scoped>\n",
       "    .dataframe tbody tr th:only-of-type {\n",
       "        vertical-align: middle;\n",
       "    }\n",
       "\n",
       "    .dataframe tbody tr th {\n",
       "        vertical-align: top;\n",
       "    }\n",
       "\n",
       "    .dataframe thead th {\n",
       "        text-align: right;\n",
       "    }\n",
       "</style>\n",
       "<table border=\"1\" class=\"dataframe\">\n",
       "  <thead>\n",
       "    <tr style=\"text-align: right;\">\n",
       "      <th>debt</th>\n",
       "      <th>0</th>\n",
       "      <th>1</th>\n",
       "      <th>contribution_of_group</th>\n",
       "      <th>share_with_debt</th>\n",
       "    </tr>\n",
       "    <tr>\n",
       "      <th>children</th>\n",
       "      <th></th>\n",
       "      <th></th>\n",
       "      <th></th>\n",
       "      <th></th>\n",
       "    </tr>\n",
       "  </thead>\n",
       "  <tbody>\n",
       "    <tr>\n",
       "      <th>0</th>\n",
       "      <td>13028</td>\n",
       "      <td>1063</td>\n",
       "      <td>66.1</td>\n",
       "      <td>7.5</td>\n",
       "    </tr>\n",
       "    <tr>\n",
       "      <th>1</th>\n",
       "      <td>4364</td>\n",
       "      <td>444</td>\n",
       "      <td>22.5</td>\n",
       "      <td>9.2</td>\n",
       "    </tr>\n",
       "    <tr>\n",
       "      <th>2</th>\n",
       "      <td>1858</td>\n",
       "      <td>194</td>\n",
       "      <td>9.6</td>\n",
       "      <td>9.5</td>\n",
       "    </tr>\n",
       "    <tr>\n",
       "      <th>3</th>\n",
       "      <td>303</td>\n",
       "      <td>27</td>\n",
       "      <td>1.5</td>\n",
       "      <td>8.2</td>\n",
       "    </tr>\n",
       "    <tr>\n",
       "      <th>4</th>\n",
       "      <td>37</td>\n",
       "      <td>4</td>\n",
       "      <td>0.2</td>\n",
       "      <td>9.8</td>\n",
       "    </tr>\n",
       "    <tr>\n",
       "      <th>5</th>\n",
       "      <td>9</td>\n",
       "      <td>0</td>\n",
       "      <td>0.0</td>\n",
       "      <td>0.0</td>\n",
       "    </tr>\n",
       "  </tbody>\n",
       "</table>\n",
       "</div>"
      ],
      "text/plain": [
       "debt          0     1  contribution_of_group  share_with_debt\n",
       "children                                                     \n",
       "0         13028  1063                   66.1              7.5\n",
       "1          4364   444                   22.5              9.2\n",
       "2          1858   194                    9.6              9.5\n",
       "3           303    27                    1.5              8.2\n",
       "4            37     4                    0.2              9.8\n",
       "5             9     0                    0.0              0.0"
      ]
     },
     "execution_count": 62,
     "metadata": {},
     "output_type": "execute_result"
    }
   ],
   "source": [
    "pivot_test"
   ]
  },
  {
   "cell_type": "markdown",
   "id": "905a3d23-65c4-435b-baac-81b25afd3e57",
   "metadata": {},
   "source": [
    "Consolidate everything created above into a function called `make_pivot(name_of_column_in_quotes)` for quicker resolution of subsequent tasks. The argument will be the name of the column being analyzed in quotes."
   ]
  },
  {
   "cell_type": "code",
   "execution_count": 64,
   "id": "c6fa07ea-4b30-490a-836e-385edd7827b5",
   "metadata": {},
   "outputs": [],
   "source": [
    "def make_pivot(name_of_column_in_qoutes):\n",
    "    pivot_def=data.pivot_table(index=name_of_column_in_qoutes,\n",
    "                 columns='debt',\n",
    "                 values='education',\n",
    "                 aggfunc = 'count',\n",
    "                 fill_value = 0\n",
    "                )\n",
    "    pivot_def['contribution_of_group'] = round((pivot_def[0]+pivot_def[1])/(pivot_def[0].sum()+pivot_def[1].sum())*100,1)\n",
    "    pivot_def['share_with_debt']= round(pivot_def[1]/(pivot_def[0]+pivot_def[1])*100,1)\n",
    "    #To make it more convenient to reference the indices, rename columns '0' and '1' to 'without_debt' and 'with_debt', respectively.\n",
    "    pivot_def = pivot_def.rename(columns={0: 'without_debt', 1: 'with_debt'})\n",
    "    #For further processing, return the pivot table instead of using the print() command.\n",
    "    return pivot_def "
   ]
  },
  {
   "cell_type": "markdown",
   "id": "3b651381-295a-4a36-b324-96f5b85739ac",
   "metadata": {},
   "source": [
    "Use the created function on the column being analyzed. To subsequent analysis of the pivot table assign the function's output to a new variable `pivot_children`."
   ]
  },
  {
   "cell_type": "code",
   "execution_count": 66,
   "id": "e6967494-74a1-410c-ab43-54ede1dab8ce",
   "metadata": {},
   "outputs": [],
   "source": [
    "pivot_children=make_pivot('children')"
   ]
  },
  {
   "cell_type": "code",
   "execution_count": 67,
   "id": "6c92a403-7209-43c8-83d4-16778f533075",
   "metadata": {},
   "outputs": [
    {
     "data": {
      "text/html": [
       "<div>\n",
       "<style scoped>\n",
       "    .dataframe tbody tr th:only-of-type {\n",
       "        vertical-align: middle;\n",
       "    }\n",
       "\n",
       "    .dataframe tbody tr th {\n",
       "        vertical-align: top;\n",
       "    }\n",
       "\n",
       "    .dataframe thead th {\n",
       "        text-align: right;\n",
       "    }\n",
       "</style>\n",
       "<table border=\"1\" class=\"dataframe\">\n",
       "  <thead>\n",
       "    <tr style=\"text-align: right;\">\n",
       "      <th>debt</th>\n",
       "      <th>without_debt</th>\n",
       "      <th>with_debt</th>\n",
       "      <th>contribution_of_group</th>\n",
       "      <th>share_with_debt</th>\n",
       "    </tr>\n",
       "    <tr>\n",
       "      <th>children</th>\n",
       "      <th></th>\n",
       "      <th></th>\n",
       "      <th></th>\n",
       "      <th></th>\n",
       "    </tr>\n",
       "  </thead>\n",
       "  <tbody>\n",
       "    <tr>\n",
       "      <th>0</th>\n",
       "      <td>13028</td>\n",
       "      <td>1063</td>\n",
       "      <td>66.1</td>\n",
       "      <td>7.5</td>\n",
       "    </tr>\n",
       "    <tr>\n",
       "      <th>1</th>\n",
       "      <td>4364</td>\n",
       "      <td>444</td>\n",
       "      <td>22.5</td>\n",
       "      <td>9.2</td>\n",
       "    </tr>\n",
       "    <tr>\n",
       "      <th>2</th>\n",
       "      <td>1858</td>\n",
       "      <td>194</td>\n",
       "      <td>9.6</td>\n",
       "      <td>9.5</td>\n",
       "    </tr>\n",
       "    <tr>\n",
       "      <th>3</th>\n",
       "      <td>303</td>\n",
       "      <td>27</td>\n",
       "      <td>1.5</td>\n",
       "      <td>8.2</td>\n",
       "    </tr>\n",
       "    <tr>\n",
       "      <th>4</th>\n",
       "      <td>37</td>\n",
       "      <td>4</td>\n",
       "      <td>0.2</td>\n",
       "      <td>9.8</td>\n",
       "    </tr>\n",
       "    <tr>\n",
       "      <th>5</th>\n",
       "      <td>9</td>\n",
       "      <td>0</td>\n",
       "      <td>0.0</td>\n",
       "      <td>0.0</td>\n",
       "    </tr>\n",
       "  </tbody>\n",
       "</table>\n",
       "</div>"
      ],
      "text/plain": [
       "debt      without_debt  with_debt  contribution_of_group  share_with_debt\n",
       "children                                                                 \n",
       "0                13028       1063                   66.1              7.5\n",
       "1                 4364        444                   22.5              9.2\n",
       "2                 1858        194                    9.6              9.5\n",
       "3                  303         27                    1.5              8.2\n",
       "4                   37          4                    0.2              9.8\n",
       "5                    9          0                    0.0              0.0"
      ]
     },
     "execution_count": 67,
     "metadata": {},
     "output_type": "execute_result"
    }
   ],
   "source": [
    "pivot_children"
   ]
  },
  {
   "cell_type": "markdown",
   "id": "07f648ef-8bce-4008-8051-f50a4cfa6e75",
   "metadata": {},
   "source": [
    "Remove groups with a contribution of less than 3%. Then, sort by the `share_with_debt` column in ascending order."
   ]
  },
  {
   "cell_type": "code",
   "execution_count": 69,
   "id": "6eff5dd2-3cfb-4880-856e-c510de6ee939",
   "metadata": {},
   "outputs": [],
   "source": [
    "pivot_children_sorted=pivot_children.drop(index=[3, 4, 5], axis = 0).sort_values(by='share_with_debt', ascending=True)"
   ]
  },
  {
   "cell_type": "code",
   "execution_count": 70,
   "id": "8488eb08-948e-428a-8d08-cdb297a444db",
   "metadata": {},
   "outputs": [
    {
     "data": {
      "text/html": [
       "<div>\n",
       "<style scoped>\n",
       "    .dataframe tbody tr th:only-of-type {\n",
       "        vertical-align: middle;\n",
       "    }\n",
       "\n",
       "    .dataframe tbody tr th {\n",
       "        vertical-align: top;\n",
       "    }\n",
       "\n",
       "    .dataframe thead th {\n",
       "        text-align: right;\n",
       "    }\n",
       "</style>\n",
       "<table border=\"1\" class=\"dataframe\">\n",
       "  <thead>\n",
       "    <tr style=\"text-align: right;\">\n",
       "      <th>debt</th>\n",
       "      <th>without_debt</th>\n",
       "      <th>with_debt</th>\n",
       "      <th>contribution_of_group</th>\n",
       "      <th>share_with_debt</th>\n",
       "    </tr>\n",
       "    <tr>\n",
       "      <th>children</th>\n",
       "      <th></th>\n",
       "      <th></th>\n",
       "      <th></th>\n",
       "      <th></th>\n",
       "    </tr>\n",
       "  </thead>\n",
       "  <tbody>\n",
       "    <tr>\n",
       "      <th>0</th>\n",
       "      <td>13028</td>\n",
       "      <td>1063</td>\n",
       "      <td>66.1</td>\n",
       "      <td>7.5</td>\n",
       "    </tr>\n",
       "    <tr>\n",
       "      <th>1</th>\n",
       "      <td>4364</td>\n",
       "      <td>444</td>\n",
       "      <td>22.5</td>\n",
       "      <td>9.2</td>\n",
       "    </tr>\n",
       "    <tr>\n",
       "      <th>2</th>\n",
       "      <td>1858</td>\n",
       "      <td>194</td>\n",
       "      <td>9.6</td>\n",
       "      <td>9.5</td>\n",
       "    </tr>\n",
       "  </tbody>\n",
       "</table>\n",
       "</div>"
      ],
      "text/plain": [
       "debt      without_debt  with_debt  contribution_of_group  share_with_debt\n",
       "children                                                                 \n",
       "0                13028       1063                   66.1              7.5\n",
       "1                 4364        444                   22.5              9.2\n",
       "2                 1858        194                    9.6              9.5"
      ]
     },
     "execution_count": 70,
     "metadata": {},
     "output_type": "execute_result"
    }
   ],
   "source": [
    "pivot_children_sorted"
   ]
  },
  {
   "cell_type": "markdown",
   "id": "fec44e7b-83e4-434c-9989-8ccdc3a4b93a",
   "metadata": {},
   "source": [
    "Create a sorting function for future tasks, where the argument will be the pivot table itself. The result will be the modified pivot table with the same name."
   ]
  },
  {
   "cell_type": "code",
   "execution_count": 72,
   "id": "3b3d5c3a-f983-4c0d-90ab-c1d2493110a0",
   "metadata": {},
   "outputs": [],
   "source": [
    "def sort_pivot(pivot):\n",
    "    for i in pivot.index:\n",
    "        if pivot.loc[i,'contribution_of_group'] < 3:\n",
    "            pivot.drop(index=i, axis = 0, inplace = True)     \n",
    "    pivot.sort_values(by='share_with_debt', ascending=True, inplace=True)\n",
    "    return pivot"
   ]
  },
  {
   "cell_type": "markdown",
   "id": "c3bdd9a0-03c0-43a7-b15a-a8397d741e6f",
   "metadata": {},
   "source": [
    "Apply the sorting function to the analyzed pivot table and verify its functionality by comparing it with the manual sorting performed earlier."
   ]
  },
  {
   "cell_type": "code",
   "execution_count": 74,
   "id": "e421408d-795f-4f1b-a02b-d56963299901",
   "metadata": {},
   "outputs": [
    {
     "data": {
      "text/html": [
       "<div>\n",
       "<style scoped>\n",
       "    .dataframe tbody tr th:only-of-type {\n",
       "        vertical-align: middle;\n",
       "    }\n",
       "\n",
       "    .dataframe tbody tr th {\n",
       "        vertical-align: top;\n",
       "    }\n",
       "\n",
       "    .dataframe thead th {\n",
       "        text-align: right;\n",
       "    }\n",
       "</style>\n",
       "<table border=\"1\" class=\"dataframe\">\n",
       "  <thead>\n",
       "    <tr style=\"text-align: right;\">\n",
       "      <th>debt</th>\n",
       "      <th>without_debt</th>\n",
       "      <th>with_debt</th>\n",
       "      <th>contribution_of_group</th>\n",
       "      <th>share_with_debt</th>\n",
       "    </tr>\n",
       "    <tr>\n",
       "      <th>children</th>\n",
       "      <th></th>\n",
       "      <th></th>\n",
       "      <th></th>\n",
       "      <th></th>\n",
       "    </tr>\n",
       "  </thead>\n",
       "  <tbody>\n",
       "    <tr>\n",
       "      <th>0</th>\n",
       "      <td>13028</td>\n",
       "      <td>1063</td>\n",
       "      <td>66.1</td>\n",
       "      <td>7.5</td>\n",
       "    </tr>\n",
       "    <tr>\n",
       "      <th>1</th>\n",
       "      <td>4364</td>\n",
       "      <td>444</td>\n",
       "      <td>22.5</td>\n",
       "      <td>9.2</td>\n",
       "    </tr>\n",
       "    <tr>\n",
       "      <th>2</th>\n",
       "      <td>1858</td>\n",
       "      <td>194</td>\n",
       "      <td>9.6</td>\n",
       "      <td>9.5</td>\n",
       "    </tr>\n",
       "  </tbody>\n",
       "</table>\n",
       "</div>"
      ],
      "text/plain": [
       "debt      without_debt  with_debt  contribution_of_group  share_with_debt\n",
       "children                                                                 \n",
       "0                13028       1063                   66.1              7.5\n",
       "1                 4364        444                   22.5              9.2\n",
       "2                 1858        194                    9.6              9.5"
      ]
     },
     "execution_count": 74,
     "metadata": {},
     "output_type": "execute_result"
    }
   ],
   "source": [
    "sort_pivot(pivot_children)"
   ]
  },
  {
   "cell_type": "markdown",
   "id": "9e87d279-891b-44fc-8c2a-24dbe113a043",
   "metadata": {},
   "source": [
    "To facilitate visual comparison, create a horizontal bar chart."
   ]
  },
  {
   "cell_type": "code",
   "execution_count": 76,
   "id": "acf98789-8cd9-43e4-beab-142e32fb8d82",
   "metadata": {},
   "outputs": [
    {
     "data": {
      "image/png": "[encoded data removed]",
      "text/plain": [
       "<Figure size 1000x500 with 1 Axes>"
      ]
     },
     "metadata": {},
     "output_type": "display_data"
    }
   ],
   "source": [
    "import matplotlib.pyplot as plt\n",
    "\n",
    "plt.figure(figsize=(10,5))\n",
    "plt.title('Graph 1. Dependence of debt on the number of children', fontsize = 14)\n",
    "index = pivot_children.index\n",
    "values = pivot_children['share_with_debt']\n",
    "plt.barh(index, values, edgecolor='black', color = '#87CEEB')\n",
    "plt.yticks(index)\n",
    "plt.xlabel('share_with_debt', fontsize = 12)\n",
    "plt.ylabel('children', fontsize = 12)\n",
    "for index, value in enumerate(values):\n",
    "    plt.text(value - 0.8, index-0.05, f'{str(value)}%', fontsize = 12)\n",
    "plt.show()"
   ]
  },
  {
   "cell_type": "markdown",
   "id": "23154229-7734-4da7-b54a-8d5b486c8ed1",
   "metadata": {},
   "source": [
    "**Conclusion:** People with three or more children rarely take out loans; therefore, the groups with 3, 4, and 5 children were not considered in the analysis. As shown in Graph 1, there is a correlation: as the number of children increases (from 0 to 2), the proportion of debtors among clients rises. Notably, the debtor shares for clients with 1 and 2 children are approximately equal. Thus, when approving loans, it is advisable to prioritize individuals without children."
   ]
  },
  {
   "cell_type": "markdown",
   "id": "3be60a05-0c4f-49b7-a4ba-33167c769644",
   "metadata": {},
   "source": [
    "### 3.2. Is there a relationship between marital status and timely loan repayment?"
   ]
  },
  {
   "cell_type": "markdown",
   "id": "757f5eea-d430-47e8-988d-78718171e3e0",
   "metadata": {},
   "source": [
    "Apply both functions: first, use `make_pivot()` on the column `family_status` to analyze the relationship between marital status and timely loan repayment, and then sort the resulting pivot table using the `sort_pivot()` function. Assign the sorted pivot table to a new variable `pivot_family`."
   ]
  },
  {
   "cell_type": "code",
   "execution_count": 80,
   "id": "e2b6b4db-5e02-4e33-83ae-67ca87c3905d",
   "metadata": {},
   "outputs": [],
   "source": [
    "pivot_family = sort_pivot(make_pivot('family_status'))"
   ]
  },
  {
   "cell_type": "code",
   "execution_count": 81,
   "id": "94072019-e76b-4a63-8434-0a9cd153a472",
   "metadata": {},
   "outputs": [
    {
     "data": {
      "text/html": [
       "<div>\n",
       "<style scoped>\n",
       "    .dataframe tbody tr th:only-of-type {\n",
       "        vertical-align: middle;\n",
       "    }\n",
       "\n",
       "    .dataframe tbody tr th {\n",
       "        vertical-align: top;\n",
       "    }\n",
       "\n",
       "    .dataframe thead th {\n",
       "        text-align: right;\n",
       "    }\n",
       "</style>\n",
       "<table border=\"1\" class=\"dataframe\">\n",
       "  <thead>\n",
       "    <tr style=\"text-align: right;\">\n",
       "      <th>debt</th>\n",
       "      <th>without_debt</th>\n",
       "      <th>with_debt</th>\n",
       "      <th>contribution_of_group</th>\n",
       "      <th>share_with_debt</th>\n",
       "    </tr>\n",
       "    <tr>\n",
       "      <th>family_status</th>\n",
       "      <th></th>\n",
       "      <th></th>\n",
       "      <th></th>\n",
       "      <th></th>\n",
       "    </tr>\n",
       "  </thead>\n",
       "  <tbody>\n",
       "    <tr>\n",
       "      <th>вдовец / вдова</th>\n",
       "      <td>888</td>\n",
       "      <td>63</td>\n",
       "      <td>4.5</td>\n",
       "      <td>6.6</td>\n",
       "    </tr>\n",
       "    <tr>\n",
       "      <th>в разводе</th>\n",
       "      <td>1105</td>\n",
       "      <td>84</td>\n",
       "      <td>5.6</td>\n",
       "      <td>7.1</td>\n",
       "    </tr>\n",
       "    <tr>\n",
       "      <th>женат / замужем</th>\n",
       "      <td>11334</td>\n",
       "      <td>927</td>\n",
       "      <td>57.5</td>\n",
       "      <td>7.6</td>\n",
       "    </tr>\n",
       "    <tr>\n",
       "      <th>гражданский брак</th>\n",
       "      <td>3749</td>\n",
       "      <td>385</td>\n",
       "      <td>19.4</td>\n",
       "      <td>9.3</td>\n",
       "    </tr>\n",
       "    <tr>\n",
       "      <th>Не женат / не замужем</th>\n",
       "      <td>2523</td>\n",
       "      <td>273</td>\n",
       "      <td>13.1</td>\n",
       "      <td>9.8</td>\n",
       "    </tr>\n",
       "  </tbody>\n",
       "</table>\n",
       "</div>"
      ],
      "text/plain": [
       "debt                   without_debt  with_debt  contribution_of_group  \\\n",
       "family_status                                                           \n",
       "вдовец / вдова                  888         63                    4.5   \n",
       "в разводе                      1105         84                    5.6   \n",
       "женат / замужем               11334        927                   57.5   \n",
       "гражданский брак               3749        385                   19.4   \n",
       "Не женат / не замужем          2523        273                   13.1   \n",
       "\n",
       "debt                   share_with_debt  \n",
       "family_status                           \n",
       "вдовец / вдова                     6.6  \n",
       "в разводе                          7.1  \n",
       "женат / замужем                    7.6  \n",
       "гражданский брак                   9.3  \n",
       "Не женат / не замужем              9.8  "
      ]
     },
     "execution_count": 81,
     "metadata": {},
     "output_type": "execute_result"
    }
   ],
   "source": [
    "pivot_family"
   ]
  },
  {
   "cell_type": "markdown",
   "id": "eec24157-e057-48f2-b69c-e43de7a22bfe",
   "metadata": {},
   "source": [
    "To facilitate visual comparison, create a horizontal bar chart."
   ]
  },
  {
   "cell_type": "code",
   "execution_count": 83,
   "id": "8a1fd1ff-99ac-42fd-a9af-e4b3e6969665",
   "metadata": {},
   "outputs": [
    {
     "data": {
      "image/png": "[encoded data removed]",
      "text/plain": [
       "<Figure size 800x500 with 1 Axes>"
      ]
     },
     "metadata": {},
     "output_type": "display_data"
    }
   ],
   "source": [
    "plt.figure(figsize=(8,5))\n",
    "plt.title('Graph 2. Dependence of debt on the family status', fontsize = 14)\n",
    "index = pivot_family.index\n",
    "values = pivot_family['share_with_debt']\n",
    "plt.barh(index, values, edgecolor='black', color = '#87CEEB')\n",
    "plt.yticks(index)\n",
    "plt.xlabel('share_with_debt', fontsize = 12)\n",
    "plt.ylabel('family_status', fontsize = 12)\n",
    "for index, value in enumerate(values):\n",
    "    plt.text(value - 0.8, index-0.1, f'{str(value)}%', fontsize = 12)\n",
    "plt.show()"
   ]
  },
  {
   "cell_type": "markdown",
   "id": "d48d8666-c676-4e0e-8d9b-c5d2d59fc143",
   "metadata": {},
   "source": [
    "**Conclusion:** According to Graph 2, the proportion of debtors in the groups increases in the following order:\n",
    "\n",
    "1. Widower/Widow - 'вдовец / вдова'\n",
    "2. Divorced - 'в разводе'\n",
    "3. Married - 'женат / замужем'\n",
    "4. Cohabiting - 'гражданский брак'\n",
    "5. Single - 'Не женат / не замужем'\n",
    "   \n",
    "A significant increase is observed when moving from group 3 to group 4, with a rise of 1.7 percentage points. Therefore, it is more reliable to approve loans for clients with the marital statuses of widower/widow, divorced, or married than for those in a cohabiting relationship or single."
   ]
  },
  {
   "cell_type": "markdown",
   "id": "dc690fe7-0de0-46d6-a1aa-3920513e160c",
   "metadata": {},
   "source": [
    "### 3.3. Is there a relationship between income level and timely loan repayment?"
   ]
  },
  {
   "cell_type": "markdown",
   "id": "25668af6-a465-42de-8ab2-136b18f9683c",
   "metadata": {},
   "source": [
    "Follow the same sequence of actions as above."
   ]
  },
  {
   "cell_type": "code",
   "execution_count": 87,
   "id": "3846e0fe-235f-46a4-ae4e-a2c3802a32d0",
   "metadata": {},
   "outputs": [],
   "source": [
    "pivot_income=sort_pivot(make_pivot('total_income_category'))"
   ]
  },
  {
   "cell_type": "code",
   "execution_count": 88,
   "id": "056bf1ea-731a-44a5-8297-dec820233ea5",
   "metadata": {},
   "outputs": [
    {
     "data": {
      "text/html": [
       "<div>\n",
       "<style scoped>\n",
       "    .dataframe tbody tr th:only-of-type {\n",
       "        vertical-align: middle;\n",
       "    }\n",
       "\n",
       "    .dataframe tbody tr th {\n",
       "        vertical-align: top;\n",
       "    }\n",
       "\n",
       "    .dataframe thead th {\n",
       "        text-align: right;\n",
       "    }\n",
       "</style>\n",
       "<table border=\"1\" class=\"dataframe\">\n",
       "  <thead>\n",
       "    <tr style=\"text-align: right;\">\n",
       "      <th>debt</th>\n",
       "      <th>without_debt</th>\n",
       "      <th>with_debt</th>\n",
       "      <th>contribution_of_group</th>\n",
       "      <th>share_with_debt</th>\n",
       "    </tr>\n",
       "    <tr>\n",
       "      <th>total_income_category</th>\n",
       "      <th></th>\n",
       "      <th></th>\n",
       "      <th></th>\n",
       "      <th></th>\n",
       "    </tr>\n",
       "  </thead>\n",
       "  <tbody>\n",
       "    <tr>\n",
       "      <th>B</th>\n",
       "      <td>4660</td>\n",
       "      <td>354</td>\n",
       "      <td>23.5</td>\n",
       "      <td>7.1</td>\n",
       "    </tr>\n",
       "    <tr>\n",
       "      <th>C</th>\n",
       "      <td>14568</td>\n",
       "      <td>1353</td>\n",
       "      <td>74.6</td>\n",
       "      <td>8.5</td>\n",
       "    </tr>\n",
       "  </tbody>\n",
       "</table>\n",
       "</div>"
      ],
      "text/plain": [
       "debt                   without_debt  with_debt  contribution_of_group  \\\n",
       "total_income_category                                                   \n",
       "B                              4660        354                   23.5   \n",
       "C                             14568       1353                   74.6   \n",
       "\n",
       "debt                   share_with_debt  \n",
       "total_income_category                   \n",
       "B                                  7.1  \n",
       "C                                  8.5  "
      ]
     },
     "execution_count": 88,
     "metadata": {},
     "output_type": "execute_result"
    }
   ],
   "source": [
    "pivot_income"
   ]
  },
  {
   "cell_type": "code",
   "execution_count": 89,
   "id": "d7437593-307f-48ea-b463-d676568b0f41",
   "metadata": {},
   "outputs": [
    {
     "data": {
      "image/png": "[encoded data removed]",
      "text/plain": [
       "<Figure size 800x500 with 1 Axes>"
      ]
     },
     "metadata": {},
     "output_type": "display_data"
    }
   ],
   "source": [
    "plt.figure(figsize=(8,5))\n",
    "plt.title('Graph 3. Dependence of debt on the income category', fontsize = 14)\n",
    "index = pivot_income.index\n",
    "values = pivot_income['share_with_debt']\n",
    "plt.barh(index, values, edgecolor='black', color = '#87CEEB')\n",
    "plt.yticks(index)\n",
    "plt.xlabel('share_with_debt', fontsize = 12)\n",
    "plt.ylabel('total_income_category', fontsize = 12)\n",
    "for index, value in enumerate(values):\n",
    "    plt.text(value - 0.8, index-0.05, f'{str(value)}%', fontsize = 12)\n",
    "\n",
    "plt.show()"
   ]
  },
  {
   "cell_type": "markdown",
   "id": "37df8bcd-d218-45a9-b3c0-19bcc55bac01",
   "metadata": {},
   "source": [
    "**Conclusion:** Referring to Graph 3, individuals in income categories B and C are the most frequent borrowers, while the other categories were not included in the sample due to their rarity. A clear relationship exists: as one moves to higher income groups, the proportion of debtors decreases. Therefore, the higher the client's income, the more reliable they are as borrowers."
   ]
  },
  {
   "cell_type": "markdown",
   "id": "cab54e3d-5cdf-4b5a-a271-1545d1c888dc",
   "metadata": {},
   "source": [
    "### 3.4. How do different loan purposes affect timely repayment?"
   ]
  },
  {
   "cell_type": "markdown",
   "id": "08cd4e63-91fe-4358-a7ca-39a8df00a7b2",
   "metadata": {},
   "source": [
    "Follow the standard sequence of actions to examine the impact of loan purposes on timely repayment."
   ]
  },
  {
   "cell_type": "code",
   "execution_count": 93,
   "id": "ae4e8b96-e21a-40fb-a4fb-2bf59b8f93e3",
   "metadata": {},
   "outputs": [],
   "source": [
    "pivot_purpose=sort_pivot(make_pivot('purpose_category'))"
   ]
  },
  {
   "cell_type": "code",
   "execution_count": 94,
   "id": "88929990-4997-46cf-b589-989bcd52c1b0",
   "metadata": {},
   "outputs": [
    {
     "data": {
      "text/html": [
       "<div>\n",
       "<style scoped>\n",
       "    .dataframe tbody tr th:only-of-type {\n",
       "        vertical-align: middle;\n",
       "    }\n",
       "\n",
       "    .dataframe tbody tr th {\n",
       "        vertical-align: top;\n",
       "    }\n",
       "\n",
       "    .dataframe thead th {\n",
       "        text-align: right;\n",
       "    }\n",
       "</style>\n",
       "<table border=\"1\" class=\"dataframe\">\n",
       "  <thead>\n",
       "    <tr style=\"text-align: right;\">\n",
       "      <th>debt</th>\n",
       "      <th>without_debt</th>\n",
       "      <th>with_debt</th>\n",
       "      <th>contribution_of_group</th>\n",
       "      <th>share_with_debt</th>\n",
       "    </tr>\n",
       "    <tr>\n",
       "      <th>purpose_category</th>\n",
       "      <th></th>\n",
       "      <th></th>\n",
       "      <th></th>\n",
       "      <th></th>\n",
       "    </tr>\n",
       "  </thead>\n",
       "  <tbody>\n",
       "    <tr>\n",
       "      <th>real estate transactions</th>\n",
       "      <td>9971</td>\n",
       "      <td>780</td>\n",
       "      <td>50.4</td>\n",
       "      <td>7.3</td>\n",
       "    </tr>\n",
       "    <tr>\n",
       "      <th>wedding</th>\n",
       "      <td>2130</td>\n",
       "      <td>183</td>\n",
       "      <td>10.8</td>\n",
       "      <td>7.9</td>\n",
       "    </tr>\n",
       "    <tr>\n",
       "      <th>car transactions</th>\n",
       "      <td>3879</td>\n",
       "      <td>400</td>\n",
       "      <td>20.1</td>\n",
       "      <td>9.3</td>\n",
       "    </tr>\n",
       "    <tr>\n",
       "      <th>education</th>\n",
       "      <td>3619</td>\n",
       "      <td>369</td>\n",
       "      <td>18.7</td>\n",
       "      <td>9.3</td>\n",
       "    </tr>\n",
       "  </tbody>\n",
       "</table>\n",
       "</div>"
      ],
      "text/plain": [
       "debt                      without_debt  with_debt  contribution_of_group  \\\n",
       "purpose_category                                                           \n",
       "real estate transactions          9971        780                   50.4   \n",
       "wedding                           2130        183                   10.8   \n",
       "car transactions                  3879        400                   20.1   \n",
       "education                         3619        369                   18.7   \n",
       "\n",
       "debt                      share_with_debt  \n",
       "purpose_category                           \n",
       "real estate transactions              7.3  \n",
       "wedding                               7.9  \n",
       "car transactions                      9.3  \n",
       "education                             9.3  "
      ]
     },
     "execution_count": 94,
     "metadata": {},
     "output_type": "execute_result"
    }
   ],
   "source": [
    "pivot_purpose"
   ]
  },
  {
   "cell_type": "code",
   "execution_count": 95,
   "id": "099cba64-a3ae-4fea-9515-da009eb3a78d",
   "metadata": {},
   "outputs": [
    {
     "data": {
      "image/png": "[encoded data removed]",
      "text/plain": [
       "<Figure size 800x500 with 1 Axes>"
      ]
     },
     "metadata": {},
     "output_type": "display_data"
    }
   ],
   "source": [
    "plt.figure(figsize=(8,5))\n",
    "plt.title('Graph 4. Dependence of debt on the purpose category', fontsize = 14)\n",
    "\n",
    "index = pivot_purpose.index\n",
    "values = pivot_purpose['share_with_debt']\n",
    "plt.barh(index, values, edgecolor='black', color = '#87CEEB')\n",
    "plt.yticks(index)\n",
    "plt.xlabel('share_with_debt', fontsize = 12)\n",
    "plt.ylabel('purpose_category', fontsize = 12)\n",
    "for index, value in enumerate(values):\n",
    "    plt.text(value - 0.7, index-0.05, f'{str(value)}%', fontsize = 12)\n",
    "\n",
    "plt.show()"
   ]
  },
  {
   "cell_type": "markdown",
   "id": "9de6206d-b681-45b4-aff4-5b40088e73d7",
   "metadata": {},
   "source": [
    "**Conclusion:** In the group \"real estate transactions,\" there are the fewest debtors, while the \"wedding\" group has 0.6 percentage points more. The groups \"education\" and \"car transactions\" have equal proportions of debtors, differing from the previous group by 1.4 percentage points. Based on Graph 4, it is generally preferable to approve loans for wedding expenses and real estate transactions."
   ]
  },
  {
   "cell_type": "markdown",
   "id": "b50581c1-70bb-46f4-b912-c2e4730e712b",
   "metadata": {},
   "source": [
    "### 3.5. What are the possible reasons for missing values in the original data?"
   ]
  },
  {
   "cell_type": "markdown",
   "id": "b51be929-3a2d-4fab-a58a-ccfb97b5cda7",
   "metadata": {},
   "source": [
    "According to the basic information about the DataFrame `data` using `info()` and `isna().sum()` methods, there are 2,174 missing values in both the `days_employed` and `total_income` columns. This suggests that these missing values may fall into the `MNAR - Missing Not At Random` category, where the mechanism of missingness is related to an unknown factor.\n",
    "\n",
    "Possible reasons are:\n",
    "\n",
    "1) **Error during data export:** There may have been an issue during the export process related to the `float64` data type. The `data.info()` output indicated that only these columns contain floating-point values.\n",
    "\n",
    "2) **Broken logic of filling fields:** If one field is not filled, the system may prevent the filling of another field. It is essential to check the logic of the application form and ensure that mandatory fields are appropriately configured."
   ]
  },
  {
   "cell_type": "markdown",
   "id": "d1e56e06-dff6-4cff-a8d5-cbe2014e330d",
   "metadata": {},
   "source": [
    "## 4. General conclusion."
   ]
  },
  {
   "cell_type": "markdown",
   "id": "fde9ffab-ff55-4d63-ac27-916bde0be18a",
   "metadata": {},
   "source": [
    "### 4.1. Relationship of categories to timely loan repayment.\n",
    "Based on the results of the completed work, it can be stated that a relationship between timely loan repayment has been identified for each category studied:\n",
    "\n",
    "**Children:**\n",
    "\n",
    "Individuals with three or more children rarely take out loans, so the groups with 3, 4, and 5 children were not considered in the analysis. As shown in Graph 1, there is a relationship: as the number of children increases (from 0 to 2), the proportion of debtors among clients rises. The debtor shares for clients with 1 and 2 children are approximately equal. **Therefore, when approving loans, it is advisable to prioritize those without children.**\n",
    "\n",
    "**Marital Status:**\n",
    "\n",
    "According to Graph 2, the proportion of debtors increases in the following order:\n",
    "\n",
    "1. Widower/Widow - 'вдовец / вдова'\n",
    "2. Divorced - 'в разводе'\n",
    "3. Married - 'женат / замужем'\n",
    "4. Cohabiting - 'гражданский брак'\n",
    "5. Single - 'Не женат / не замужем'\n",
    "   \n",
    "A significant increase is observed when moving from group 3 to group 4, with a rise of 1.7 percentage points. **Thus, it is more reliable to approve loans for clients with the marital statuses of widower/widow, divorced, or married than for those in a cohabiting relationship or single.**\n",
    "\n",
    "**Income Level:**\n",
    "\n",
    "Referring to Graph 3, individuals in income categories B and C are the most frequent borrowers, while the other categories were not included in the sample due to their rarity. A clear relationship exists: as one moves to higher income groups, the proportion of debtors decreases. **Therefore, the higher the client's income, the more reliable they are as borrowers.**\n",
    "\n",
    "**Loan Purpose:**\n",
    "\n",
    "In the group \"real estate transactions,\" there are the fewest debtors, while the \"wedding\" group has 0.6 percentage points more. The groups \"education\" and \"car transactions\" have equal proportions of debtors, differing from the previous group by 1.4 percentage points. **Based on Graph 4, it is generally preferable to approve loans for wedding expenses and real estate transactions.**\n",
    "\n",
    "### 4.2. Profiles of an 'ideal' and 'undesirable' client.\n",
    "**'Ideal' client profile:**\n",
    "* Married or widower/widow\n",
    "* No children\n",
    "* Above-average income\n",
    "* Purpose: real estate transactions or wedding expenses\n",
    "\n",
    "**'Undesirable' client profile:**\n",
    "* Single or cohabiting\n",
    "* Has children\n",
    "* Below-average income\n",
    "* Purpose: car transactions or education\n",
    "  \n",
    "### 4.3. Possible reasons for missing values.\n",
    "* **Error during data export:** There may have been an issue during the export process related to the `float64` data type.\n",
    "* **Broken logic of filling fields:** If one of the fields ('days_employed' and 'total_income') is not filled, the system may prevent the filling of the other."
   ]
  }
 ],
 "metadata": {
  "kernelspec": {
   "display_name": "Python 3 (ipykernel)",
   "language": "python",
   "name": "python3"
  },
  "language_info": {
   "codemirror_mode": {
    "name": "ipython",
    "version": 3
   },
   "file_extension": ".py",
   "mimetype": "text/x-python",
   "name": "python",
   "nbconvert_exporter": "python",
   "pygments_lexer": "ipython3",
   "version": "3.12.4"
  }
 },
 "nbformat": 4,
 "nbformat_minor": 5
}
